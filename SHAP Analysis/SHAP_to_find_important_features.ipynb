{
 "cells": [
  {
   "cell_type": "code",
   "execution_count": null,
   "id": "b9cf16c3",
   "metadata": {},
   "outputs": [],
   "source": [
    "#### Load the necessary modules###\n",
    "\n",
    "import pandas as pd\n",
    "import numpy as np\n",
    "import pickle\n",
    "import shap\n",
    "\n",
    "import matplotlib\n",
    "from matplotlib import pyplot\n",
    "import matplotlib.pyplot as plt\n",
    "import seaborn as sns\n",
    "from itertools import cycle\n",
    "\n",
    "from sklearn.ensemble import RandomForestClassifier, GradientBoostingClassifier\n",
    "from sklearn.linear_model import LogisticRegression\n",
    "from sklearn import svm\n",
    "from sklearn.svm import LinearSVC\n",
    "from sklearn.svm import SVC\n",
    "from sklearn.neighbors import KNeighborsClassifier\n",
    "from sklearn.naive_bayes import GaussianNB\n",
    "from sklearn.discriminant_analysis import LinearDiscriminantAnalysis\n",
    "\n",
    "from sklearn.ensemble import AdaBoostClassifier\n",
    "from sklearn.tree import DecisionTreeClassifier\n",
    "sns.set(style='whitegrid', rc={'axes.grid': False})\n",
    "import warnings\n",
    "warnings.filterwarnings(\"ignore\")"
   ]
  },
  {
   "cell_type": "code",
   "execution_count": null,
   "id": "bb171d10",
   "metadata": {},
   "outputs": [],
   "source": [
    "###### Read the train and test data #######\n",
    "train = pd.read_excel(r'')\n",
    "test = pd.read_excel(r'')"
   ]
  },
  {
   "cell_type": "code",
   "execution_count": null,
   "id": "f5c7fe9e",
   "metadata": {},
   "outputs": [],
   "source": [
    "train['Cluster']=train['Cluster'].map({'G':0,'H':1})\n",
    "test['Cluster']=test['Cluster'].map({'G':0,'H':1})"
   ]
  },
  {
   "cell_type": "code",
   "execution_count": null,
   "id": "a1af42dd",
   "metadata": {},
   "outputs": [],
   "source": [
    "# Load the model weights of your interest. Here the random forest model was loaded###########\n",
    "rf_model = pickle.load(open(\"/_RF.sav\", 'rb'))\n",
    "preds_t = rf_model.predict(X_test)\n",
    "cnf_matrix_t = confusion_matrix(y_test, preds_t)"
   ]
  },
  {
   "cell_type": "code",
   "execution_count": null,
   "id": "eef04e0c",
   "metadata": {},
   "outputs": [],
   "source": [
    "feature_names = list(X_test.columns)\n",
    "print(feature_names[24])"
   ]
  },
  {
   "cell_type": "code",
   "execution_count": null,
   "id": "8714b80c",
   "metadata": {},
   "outputs": [],
   "source": [
    "###### Identify the features that are important contributors using SHAP ######\n",
    "shap.initjs()\n",
    "explainer = shap.TreeExplainer(rf_model)\n",
    "# obtain shap values for the first row of the test data\n",
    "shap_values = explainer.shap_values(X_test)"
   ]
  },
  {
   "cell_type": "code",
   "execution_count": null,
   "id": "27e9531f",
   "metadata": {},
   "outputs": [],
   "source": [
    "###### Visualization one - SHAP summary plot or Beesworm plot #####\n",
    "shap.summary_plot(shap_values[1], X_test.astype(\"float\"),feature_names = feature_names,max_display=15,show=False)"
   ]
  },
  {
   "cell_type": "code",
   "execution_count": null,
   "id": "20e71453",
   "metadata": {},
   "outputs": [],
   "source": [
    "##### Visualization two - SHAP force plot###\n",
    "shap.force_plot(explainer.expected_value[1], shap_values[1][0,:], X_test.iloc[0,:], link=\"logit\")"
   ]
  },
  {
   "cell_type": "code",
   "execution_count": null,
   "id": "9d72f485",
   "metadata": {},
   "outputs": [],
   "source": [
    "##### Visualization three - SHAP dependence plot#####\n",
    "plt.figure()\n",
    "shap.dependence_plot(\"TNF.Up\",shap_values[1],X_test,show=False)"
   ]
  },
  {
   "cell_type": "code",
   "execution_count": null,
   "id": "22886838",
   "metadata": {},
   "outputs": [],
   "source": [
    "#### Visualization four - SHAP waterfall plot ####\n",
    "explainer_rf = shap.Explainer(rf_model)\n",
    "sv_rf = explainer(X_test)\n",
    "from shap import TreeExplainer, Explanation\n",
    "from shap.plots import waterfall\n",
    "exp = Explanation(sv_rf.values[:,:,1], \n",
    "                  sv_rf.base_values[:,1], \n",
    "                  data=X_test.values, \n",
    "                  feature_names=feature_names)\n",
    "idx = 2\n",
    "waterfall(exp[idx],show=False,max_display=15)"
   ]
  }
 ],
 "metadata": {
  "kernelspec": {
   "display_name": "Python 3 (ipykernel)",
   "language": "python",
   "name": "python3"
  },
  "language_info": {
   "codemirror_mode": {
    "name": "ipython",
    "version": 3
   },
   "file_extension": ".py",
   "mimetype": "text/x-python",
   "name": "python",
   "nbconvert_exporter": "python",
   "pygments_lexer": "ipython3",
   "version": "3.8.8"
  }
 },
 "nbformat": 4,
 "nbformat_minor": 5
}
